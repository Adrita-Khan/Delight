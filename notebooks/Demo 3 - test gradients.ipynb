{
 "cells": [
  {
   "cell_type": "code",
   "execution_count": 1,
   "metadata": {
    "collapsed": true
   },
   "outputs": [],
   "source": [
    "%matplotlib inline\n",
    "import numpy as np\n",
    "import matplotlib.pyplot as plt\n",
    "import scipy.interpolate\n",
    "\n",
    "from astropy.cosmology import FlatLambdaCDM\n",
    "import GPy\n",
    "import sys\n",
    "sys.path.append('../code')\n",
    "from photoz_kernels import *\n",
    "\n",
    "cosmo = FlatLambdaCDM(H0=70, Om0=0.3, Ob0=None)\n",
    "DL = cosmo.luminosity_distance"
   ]
  },
  {
   "cell_type": "code",
   "execution_count": 2,
   "metadata": {
    "collapsed": false
   },
   "outputs": [
    {
     "name": "stdout",
     "output_type": "stream",
     "text": [
      "32 32\n"
     ]
    }
   ],
   "source": [
    "max_redshift = 2.0\n",
    "ab_filters = ['u', 'g', 'r', 'i', 'z']\n",
    "numBands = len(ab_filters)\n",
    "amp_arr = np.genfromtxt('filter_gaussian_coefficients_amp_'+''.join(ab_filters)+'.txt')\n",
    "mu_arr = np.genfromtxt('filter_gaussian_coefficients_mu_'+''.join(ab_filters)+'.txt')\n",
    "sig_arr = np.genfromtxt('filter_gaussian_coefficients_sig_'+''.join(ab_filters)+'.txt')\n",
    "numCoefs = amp_arr.shape[0]\n",
    "\n",
    "f_mod = np.load('CWW_redshiftgrid_zmax'+str(max_redshift)+''.join(ab_filters)+'.npy')\n",
    "f_mod2 = np.load('CWW_redshiftgrid_zmax'+str(max_redshift)+''.join(ab_filters)+'_nolines.npy')\n",
    "nz, nt, nf = f_mod.shape\n",
    "redshiftGrid = np.linspace(0, max_redshift, num=nz)\n",
    "f_mod_interps = np.zeros((nt, nf), dtype=object)\n",
    "f_mod_interps2 = np.zeros((nt, nf), dtype=object)\n",
    "for jf in range(nf):                            \n",
    "    for it in range(nt):\n",
    "        f_mod_interps[it, jf] = scipy.interpolate.interp1d(redshiftGrid, f_mod[:,it,jf], kind='cubic')\n",
    "        f_mod_interps2[it, jf] = scipy.interpolate.interp1d(redshiftGrid, f_mod2[:,it,jf], kind='cubic')\n",
    "        \n",
    "lines_mu = np.array([ 3732.22, 5002.26, 1392.07, 1542.91, 2009.82, 2384.11, 2795.42, \n",
    "                     3174.70, 4858.05, 5401.32, 6292.06, 6556.74, 6719.12, 8775.69, \n",
    "                     3253.81, 3372.75, 3528.47, 3870.62, 4104.03, 4343.24, 5308.43, \n",
    "                     6853.21, 7027.87, 7134.49, 7227.85, 9065.54, 9230.14, 9527.33, \n",
    "                     9603.17, 1213.04, 3835.44, 3969.87 ])\n",
    "lines_sig = np.array([ 23.11, 34.10, 6.41, 5.58, 22.81, 2.63, 11.14, 3.90, 3.68, \n",
    "                      11.83, 3.18, 4.39, 10.70, 6.77, 5.33, 2.14, 4.74, 9.18, \n",
    "                      7.03, 8.57, 4.43, 2.49, 11.83, 3.84, 3.13, 4.99, 4.52, \n",
    "                      5.01, 5.04, 8.20, 2.46, 2.93 ])\n",
    "print lines_mu.size, lines_sig.size"
   ]
  },
  {
   "cell_type": "code",
   "execution_count": 3,
   "metadata": {
    "collapsed": false
   },
   "outputs": [
    {
     "name": "stderr",
     "output_type": "stream",
     "text": [
      " /Users/bl/anaconda/lib/python2.7/site-packages/ipykernel/__main__.py:25: VisibleDeprecationWarning:using a non-integer number instead of an integer will result in an error in the future\n"
     ]
    }
   ],
   "source": [
    "numObjectsPerType = 1\n",
    "bandsUsed = range(1,5) # [0, 4] #\n",
    "numBandsUsed = len(bandsUsed)\n",
    "typesUsed = np.arange(1,nt) #np.arange(3)#\n",
    "numpoints = numObjectsPerType*typesUsed.size\n",
    "#redshifts = np.random.uniform(low=0, high=max_redshift, size=numpoints)\n",
    "if numObjectsPerType == 1:\n",
    "    redshifts = np.ones((typesUsed.size,))\n",
    "else:\n",
    "    redshifts = np.outer(np.linspace(0, max_redshift, num=numObjectsPerType), np.ones(typesUsed.size)).T.flatten()\n",
    "types = np.outer(np.ones(numObjectsPerType), typesUsed).T.flatten()\n",
    "\n",
    "nd = numBandsUsed*numpoints\n",
    "X = np.zeros((nd, 3))\n",
    "Ytruth = np.zeros((nd, ))\n",
    "Ynoise = np.zeros((nd, ))\n",
    "Y = np.zeros((nd, ))\n",
    "off = 0\n",
    "Ynoisevarianceval = 0.05**2\n",
    "for ip in range(numpoints):\n",
    "    for jf in bandsUsed:\n",
    "        X[off, 0] = types[ip]\n",
    "        X[off, 1] = jf\n",
    "        X[off, 2] = redshifts[ip]\n",
    "        Ytruth[off] = f_mod_interps[types[ip], jf](redshifts[ip])\n",
    "        Ynoise[off] = Ynoisevarianceval\n",
    "        Y[off] = Ytruth[off] + np.sqrt(Ynoise[off]) * np.random.randn()\n",
    "        off += 1"
   ]
  },
  {
   "cell_type": "code",
   "execution_count": 8,
   "metadata": {
    "collapsed": false
   },
   "outputs": [],
   "source": [
    "alpha_C = 1e3\n",
    "alpha_L = 1e3\n",
    "alpha_T = 0.9\n",
    "var_T = 0.3\n",
    "slope_T = 0.5\n",
    "\n",
    "k = Photoz(amp_arr, mu_arr, sig_arr, lines_mu, lines_sig, var_T, slope_T, alpha_C, alpha_L, alpha_T)\n",
    "m_full = GPy.models.GPRegression(X, Y[:,None], k)\n",
    "m_full.kern.change_numlines(5)\n",
    "\n",
    "if numObjectsPerType < 2 and numBandsUsed == 5:\n",
    "    m_full.kern.var_T.constrain_bounded(1e-2, 1e5)\n",
    "    m_full.kern.slope_T.constrain_bounded(-20*nt, 20*nt)\n",
    "    m_full.kern.alpha_T.constrain_bounded(0.1, 2)\n",
    "    m_full.kern.alpha_C.constrain_bounded(1e3, 1e4)\n",
    "    m_full.kern.alpha_L.constrain_bounded(1e1, 1e2)\n",
    "    m_full.likelihood.variance.fix(Ynoisevarianceval)\n",
    "    m_full.optimize('bfgs', messages=True)"
   ]
  },
  {
   "cell_type": "code",
   "execution_count": 9,
   "metadata": {
    "collapsed": false
   },
   "outputs": [
    {
     "name": "stdout",
     "output_type": "stream",
     "text": [
      "alpha_C gradient 0.887032571033 0.887018595629\n",
      "alpha_L gradient 3.45591115547e-07 3.45612345353e-07\n",
      "alpha_T gradient 1327.57977287 1327.58100855\n",
      "var_T gradient 147.190012947 147.190012947\n",
      "slope_T gradient 2827.62162155 2827.62162155\n"
     ]
    }
   ],
   "source": [
    "truths = {'alpha_C': alpha_C, 'alpha_L': alpha_L, 'alpha_T': alpha_T, 'var_T': var_T, 'slope_T': slope_T}\n",
    "frac = 0.01\n",
    "numit = 5\n",
    "for nm in ['alpha_C', 'alpha_L', 'alpha_T', 'var_T', 'slope_T']:\n",
    "    px = np.linspace(truths[nm]*(1-frac), truths[nm]*(1+frac), num=numit)\n",
    "    py = 0*px\n",
    "    for i, val in enumerate(px):\n",
    "        setattr(k, nm, val)\n",
    "        py[i] = np.sum( k.K(X) )\n",
    "    setattr(k, nm, truths[nm]) \n",
    "    k.update_gradients_full(1.0, X, X)\n",
    "    print nm, 'gradient', np.mean(np.diff(py)/np.diff(px)), getattr(k, nm).gradient[0]"
   ]
  },
  {
   "cell_type": "code",
   "execution_count": 13,
   "metadata": {
    "collapsed": false
   },
   "outputs": [
    {
     "name": "stdout",
     "output_type": "stream",
     "text": [
      "diff [ 10.94260421          nan  -4.92415365]\n",
      "grad [ 10.94232888   0.           0.        ]\n",
      "diff [ 14.27737762          nan  -2.36985202]\n",
      "grad [ 14.2770891   0.          0.       ]\n",
      "diff [ 14.20364614          nan   3.21714638]\n",
      "grad [ 14.20335941   0.           0.        ]\n"
     ]
    },
    {
     "name": "stderr",
     "output_type": "stream",
     "text": [
      " /Users/bl/anaconda/lib/python2.7/site-packages/ipykernel/__main__.py:17: RuntimeWarning:invalid value encountered in divide\n"
     ]
    },
    {
     "name": "stdout",
     "output_type": "stream",
     "text": [
      "diff [ 10.83245804          nan   9.26583685]\n",
      "grad [ 10.83218962   0.           0.        ]\n",
      "diff [ 20.39669129          nan -15.30003958]\n",
      "grad [ 20.39464922   0.           0.        ]\n",
      "diff [ 26.61217672          nan  -7.36335109]\n",
      "grad [ 26.61007793   0.           0.        ]\n",
      "diff [ 26.47474378          nan   9.99640574]\n",
      "grad [ 26.47265826   0.           0.        ]\n",
      "diff [ 20.19135665          nan  28.79070201]\n",
      "grad [ 20.18936828   0.           0.        ]\n",
      "diff [ 30.25297765          nan -32.06695586]\n",
      "grad [ 30.24645701   0.           0.        ]\n",
      "diff [ 39.47090122          nan -15.43264393]\n",
      "grad [ 39.46430114   0.           0.        ]\n",
      "diff [ 39.26705753          nan  20.95123809]\n",
      "grad [ 39.26049974   0.           0.        ]\n",
      "diff [ 29.94835658          nan  60.34173377]\n",
      "grad [ 29.94201339   0.           0.        ]\n",
      "diff [ 40.30037121          nan -55.45220937]\n",
      "grad [ 40.28564331   0.           0.        ]\n",
      "diff [ 52.57770602          nan -26.68710423]\n",
      "grad [ 52.56300791   0.           0.        ]\n",
      "diff [ 52.30616499          nan  36.23020746]\n",
      "grad [ 52.29156221   0.           0.        ]\n",
      "diff [  39.89446579           nan  104.34674576]\n",
      "grad [ 39.88015095   0.           0.        ]\n",
      "diff [ 48.98928413          nan -85.28468073]\n",
      "grad [ 48.98670025   0.           0.        ]\n",
      "diff [ 63.9103364           nan -41.04439415]\n",
      "grad [ 63.91577994   0.           0.        ]\n",
      "diff [ 63.58025296          nan  55.72147305]\n",
      "grad [ 63.58570629   0.           0.        ]\n",
      "diff [  48.49566923           nan  160.48367468]\n",
      "grad [ 48.493628   0.         0.      ]\n",
      "diff [  34.21555323           nan -115.85835145]\n",
      "grad [ 34.3980343   0.          0.       ]\n",
      "diff [ 44.62779896          nan -55.75893806]\n",
      "grad [ 44.88110405   0.           0.        ]\n",
      "diff [ 44.39726683          nan  75.69567528]\n",
      "grad [ 44.64932921   0.           0.        ]\n",
      "diff [  33.87026738           nan  218.01324003]\n",
      "grad [ 34.05180327   0.           0.        ]\n",
      "diff [ -56.80711577           nan -112.1070933 ]\n",
      "grad [-57.05939761   0.           0.        ]\n",
      "diff [-74.14364478          nan -53.95790117]\n",
      "grad [-74.4486949   0.          0.       ]\n",
      "diff [-73.76085615          nan  73.2341711 ]\n",
      "grad [-74.06422721   0.           0.        ]\n",
      "diff [ -56.23674117           nan  210.93758561]\n",
      "grad [-56.48507018   0.           0.        ]\n"
     ]
    }
   ],
   "source": [
    "frac = 0.02\n",
    "numit = 10\n",
    "for jj in range(X.shape[0]):\n",
    "    #print 'X', X[jj,:]\n",
    "    px = np.zeros((numit, X.shape[1]))\n",
    "    py = np.zeros((numit, X.shape[1]))\n",
    "    for i, val in enumerate(np.linspace((1-frac), (1+frac), num=numit)):\n",
    "        for p in [0, 2]:\n",
    "            Xb = 1*X[:,:]\n",
    "            Xb[jj,p] = val * X[jj,p]\n",
    "            px[i,p] = val * X[jj,p]\n",
    "            py[i,p] = np.sum(k.K(Xb))\n",
    "\n",
    "    #print 'px', px\n",
    "    #print 'py', py\n",
    "    #print 'numdiff', np.diff(py,axis=0)/np.diff(px,axis=0)\n",
    "    print 'diff', np.mean(np.diff(py,axis=0)/np.diff(px,axis=0), axis=0)\n",
    "    print 'grad', k.gradients_X(1.0, X)[jj,:]\n",
    "    #stop\n"
   ]
  },
  {
   "cell_type": "code",
   "execution_count": null,
   "metadata": {
    "collapsed": true
   },
   "outputs": [],
   "source": []
  }
 ],
 "metadata": {
  "kernelspec": {
   "display_name": "Python 2",
   "language": "python",
   "name": "python2"
  },
  "language_info": {
   "codemirror_mode": {
    "name": "ipython",
    "version": 2
   },
   "file_extension": ".py",
   "mimetype": "text/x-python",
   "name": "python",
   "nbconvert_exporter": "python",
   "pygments_lexer": "ipython2",
   "version": "2.7.11"
  },
  "widgets": {
   "state": {},
   "version": "1.1.1"
  }
 },
 "nbformat": 4,
 "nbformat_minor": 0
}
