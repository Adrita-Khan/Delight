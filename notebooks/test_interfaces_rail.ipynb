{
 "cells": [
  {
   "cell_type": "markdown",
   "metadata": {},
   "source": [
    "# New Tutorial for testing interface of Delight with RAIL in Vera C. Rubin Obs context (LSST) \n",
    "\n",
    "## Getting started with Delight and LSST\n",
    "\n",
    "\n",
    "- author : Sylvie Dagoret-Campagne\n",
    "- affiliation : IJCLab/IN2P3/CNRS\n",
    "- creation date : January 22 2022\n",
    "\n",
    "\n",
    "\n",
    "**test delight.interface.rail** : adaptation of the original tutorial on SDSS and Getting started.\n",
    "\n",
    "\n",
    "- run at NERSC with **desc-python** python kernel.\n",
    "\n",
    "\n",
    "Instruction to have a **desc-python** environnement:\n",
    "- https://confluence.slac.stanford.edu/display/LSSTDESC/Getting+Started+with+Anaconda+Python+at+NERSC\n",
    "\n",
    "\n",
    "This environnement is a clone from the **desc-python** environnement where package required in requirements can be addded according the instructions here\n",
    "- https://github.com/LSSTDESC/desc-python/wiki/Add-Packages-to-the-desc-python-environment"
   ]
  },
  {
   "cell_type": "markdown",
   "metadata": {},
   "source": [
    "We will use the parameter file \"tmps/parametersTestRail.cfg\".\n",
    "This contains a description of the bands and data to be used.\n",
    "In this example we will generate mock data for the ugrizy LSST bands,\n",
    "fit each object with our GP using ugi bands only and see how it predicts the rz bands.\n",
    "This is an example for filling in/predicting missing bands in a fully bayesian way\n",
    "with a flexible SED model quickly via our photo-z GP."
   ]
  },
  {
   "cell_type": "code",
   "execution_count": 1,
   "metadata": {
    "tags": []
   },
   "outputs": [],
   "source": [
    "%matplotlib inline\n",
    "import numpy as np\n",
    "import matplotlib.pyplot as plt\n",
    "import scipy.stats\n",
    "import sys,os\n",
    "sys.path.append('../')\n",
    "from delight.io import *\n",
    "from delight.utils import *\n",
    "from delight.photoz_gp import PhotozGP"
   ]
  },
  {
   "cell_type": "code",
   "execution_count": 2,
   "metadata": {},
   "outputs": [],
   "source": [
    "from delight.interfaces.rail.makeConfigParam import makeConfigParam"
   ]
  },
  {
   "cell_type": "code",
   "execution_count": 3,
   "metadata": {},
   "outputs": [
    {
     "name": "stdout",
     "output_type": "stream",
     "text": [
      "/global/u1/d/dagoret/mydesc/Delight/notebooks\n"
     ]
    }
   ],
   "source": [
    "!pwd"
   ]
  },
  {
   "cell_type": "code",
   "execution_count": 4,
   "metadata": {},
   "outputs": [
    {
     "name": "stdout",
     "output_type": "stream",
     "text": [
      "/global/u1/d/dagoret/mydesc/Delight\n"
     ]
    }
   ],
   "source": [
    "cd ../."
   ]
  },
  {
   "cell_type": "code",
   "execution_count": 5,
   "metadata": {},
   "outputs": [
    {
     "name": "stdout",
     "output_type": "stream",
     "text": [
      "/global/u1/d/dagoret/mydesc/Delight\n"
     ]
    }
   ],
   "source": [
    "!pwd"
   ]
  },
  {
   "cell_type": "code",
   "execution_count": 6,
   "metadata": {
    "collapsed": false,
    "jupyter": {
     "outputs_hidden": false
    }
   },
   "outputs": [],
   "source": [
    "#%cd Delight"
   ]
  },
  {
   "cell_type": "markdown",
   "metadata": {},
   "source": [
    "# Make config parameters\n",
    "\n",
    "- now parameters are generated in a dictionnary"
   ]
  },
  {
   "cell_type": "code",
   "execution_count": 7,
   "metadata": {},
   "outputs": [],
   "source": [
    "input_param = {}\n",
    "input_param[\"bands_names\"]    = \"lsst_u lsst_g lsst_r lsst_i lsst_z lsst_y\"\n",
    "input_param[\"bands_path\"]     = \"data/FILTERS\"\n",
    "input_param[\"bands_fmt\"]      = \"res\"\n",
    "input_param[\"bands_numcoefs\"] = 15\n",
    "input_param[\"bands_verbose\"]  = \"True\"\n",
    "input_param[\"bands_debug\"]    = \"True\"\n",
    "input_param[\"bands_makeplots\"]= \"False\"\n",
    "\n",
    "input_param['sed_path']      = \"data/CWW_SEDs\" \n",
    "input_param['sed_name_list'] = \"El_B2004a Sbc_B2004a Scd_B2004a SB3_B2004a SB2_B2004a Im_B2004a ssp_25Myr_z008 ssp_5Myr_z008\"\n",
    "input_param['sed_fmt']       = \"dat\"\n",
    "input_param['prior_t_list']  = \"0.27 0.26 0.25 0.069 0.021 0.11 0.0061 0.0079\"\n",
    "input_param['prior_zt_list'] = \"0.23 0.39 0.33 0.31 1.1 0.34 1.2 0.14\"\n",
    "input_param['lambda_ref']    = \"4.5e3\"\n",
    "\n",
    "input_param['tempdir']             = \"./tmpsim\"\n",
    "input_param[\"tempdatadir\"]         = \"./tmpsim/delight_data\"\n",
    "input_param['train_refbandorder']  = \"lsst_u lsst_u_var lsst_g lsst_g_var lsst_r lsst_r_var lsst_i lsst_i_var lsst_z lsst_z_var lsst_y lsst_y_var redshift\"\n",
    "input_param['train_refband']       = \"lsst_i\"\n",
    "input_param['train_fracfluxerr']   = \"1e-4\"\n",
    "input_param['train_xvalidate']     = \"False\"\n",
    "input_param['train_xvalbandorder'] = \"_ _ _ _ lsst_r lsst_r_var _ _ _ _ _ _\"\n",
    "\n",
    "input_param['target_refbandorder']  = \"lsst_u lsst_u_var lsst_g lsst_g_var lsst_r lsst_r_var lsst_i lsst_i_var lsst_z lsst_z_var lsst_y lsst_y_var redshift\"\n",
    "input_param['target_refband']       = \"lsst_r\"\n",
    "input_param['target_fracfluxerr']   = \"1e-4\"\n",
    "\n",
    "input_param[\"zPriorSigma\"]   = \"0.2\"\n",
    "input_param[\"ellPriorSigma\"] = \"0.5\"\n",
    "input_param[\"fluxLuminosityNorm\"] = \"1.0\"\n",
    "input_param[\"alpha_C\"]        = \"1.0e3\"\n",
    "input_param[\"V_C\"]            = \"0.1\"\n",
    "input_param[\"alpha_L\"]        = \"1.0e2\"\n",
    "input_param[\"V_L\"]            = \"0.1\"\n",
    "input_param[\"lineWidthSigma\"] = \"20\"\n",
    "\n",
    "input_param[\"dlght_redshiftMin\"]   = \"0.1\"\n",
    "input_param[\"dlght_redshiftMax\"]   = \"1.101\"\n",
    "input_param[\"dlght_redshiftNumBinsGPpred\"]  = \"100\"\n",
    "input_param[\"dlght_redshiftBinSize\"]        = \"0.01\"\n",
    "input_param[\"dlght_redshiftDisBinSize\"]     = \"0.2\""
   ]
  },
  {
   "cell_type": "markdown",
   "metadata": {},
   "source": [
    "- **makeConfigParam** generate a long string defining required parameters"
   ]
  },
  {
   "cell_type": "code",
   "execution_count": 8,
   "metadata": {},
   "outputs": [
    {
     "name": "stderr",
     "output_type": "stream",
     "text": [
      "2022-01-22 05:16:05,026 __main__.py delight.interfaces.rail.makeConfigParam[26348] DEBUG __name__:delight.interfaces.rail.makeConfigParam\n",
      "2022-01-22 05:16:05,027 __main__.py delight.interfaces.rail.makeConfigParam[26348] DEBUG __file__/global/homes/d/dagoret/mydesc/mydesc/lib/python3.8/site-packages/delight-1.0.1-py3.8-linux-x86_64.egg/delight/interfaces/rail/makeConfigParam.py\n",
      "2022-01-22 05:16:05,027 __main__.py delight.interfaces.rail.makeConfigParam[26348] INFO ----- makeConfigParam ------\n",
      "2022-01-22 05:16:05,028 __main__.py delight.interfaces.rail.makeConfigParam[26348] DEBUG  received path = data\n",
      "2022-01-22 05:16:05,028 __main__.py delight.interfaces.rail.makeConfigParam[26348] DEBUG Decode redshift parameter from RAIL config file\n"
     ]
    }
   ],
   "source": [
    "paramfile_txt = makeConfigParam(\"data\",input_param)"
   ]
  },
  {
   "cell_type": "code",
   "execution_count": 9,
   "metadata": {},
   "outputs": [
    {
     "name": "stdout",
     "output_type": "stream",
     "text": [
      "\n",
      "# DELIGHT parameter file\n",
      "# Syntactic rules:\n",
      "# - You can set parameters with : or =\n",
      "# - Lines starting with # or ; will be ignored\n",
      "# - Multiple values (band names, band orders, confidence levels)\n",
      "#   must beb separated by spaces\n",
      "# - The input files should contain numbers separated with spaces.\n",
      "# - underscores mean unused column\n",
      "\n",
      "[Bands]\n",
      "names: lsst_u lsst_g lsst_r lsst_i lsst_z lsst_y\n",
      "directory: data/FILTERS\n",
      "bands_fmt: res\n",
      "numCoefs: 15\n",
      "bands_verbose: True\n",
      "bands_debug: True\n",
      "bands_makeplots: False\n",
      "\n",
      "[Templates]\n",
      "directory: data/CWW_SEDs\n",
      "names: El_B2004a Sbc_B2004a Scd_B2004a SB3_B2004a SB2_B2004a Im_B2004a ssp_25Myr_z008 ssp_5Myr_z008\n",
      "sed_fmt: dat\n",
      "p_t: 0.27 0.26 0.25 0.069 0.021 0.11 0.0061 0.0079\n",
      "p_z_t: 0.23 0.39 0.33 0.31 1.1 0.34 1.2 0.14\n",
      "lambdaRef: 4.5e3\n",
      "\n",
      "[Simulation]\n",
      "numObjects: 1000\n",
      "noiseLevel: 0.03\n",
      "trainingFile: ./tmpsim/delight_data/galaxies-fluxredshifts.txt\n",
      "targetFile: ./tmpsim/delight_data/galaxies-fluxredshifts2.txt\n",
      "\n",
      "[Training]\n",
      "catFile: ./tmpsim/delight_data/galaxies-fluxredshifts.txt\n",
      "bandOrder: lsst_u lsst_u_var lsst_g lsst_g_var lsst_r lsst_r_var lsst_i lsst_i_var lsst_z lsst_z_var lsst_y lsst_y_var redshift\n",
      "referenceBand: lsst_i\n",
      "extraFracFluxError: 1e-4\n",
      "crossValidate: False\n",
      "crossValidationBandOrder: _ _ _ _ lsst_r lsst_r_var _ _ _ _ _ _\n",
      "paramFile: ./tmpsim/delight_data/galaxies-gpparams.txt\n",
      "CVfile: ./tmpsim/delight_data/galaxies-gpCV.txt\n",
      "numChunks: 1\n",
      "\n",
      "\n",
      "[Target]\n",
      "catFile: ./tmpsim/delight_data/galaxies-fluxredshifts2.txt\n",
      "bandOrder: lsst_u lsst_u_var lsst_g lsst_g_var lsst_r lsst_r_var lsst_i lsst_i_var lsst_z lsst_z_var lsst_y lsst_y_var redshift\n",
      "referenceBand: lsst_r\n",
      "extraFracFluxError: 1e-4\n",
      "redshiftpdfFile: ./tmpsim/delight_data/galaxies-redshiftpdfs.txt\n",
      "redshiftpdfFileTemp: ./tmpsim/delight_data/galaxies-redshiftpdfs-cww.txt\n",
      "metricsFile: ./tmpsim/delight_data/galaxies-redshiftmetrics.txt\n",
      "metricsFileTemp: ./tmpsim/delight_data/galaxies-redshiftmetrics-cww.txt\n",
      "useCompression: False\n",
      "Ncompress: 10\n",
      "compressIndicesFile: ./tmpsim/delight_data/galaxies-compressionIndices.txt\n",
      "compressMargLikFile: ./tmpsim/delight_data/galaxies-compressionMargLikes.txt\n",
      "redshiftpdfFileComp: ./tmpsim/delight_data/galaxies-redshiftpdfs-comp.txt\n",
      "\n",
      "[Other]\n",
      "rootDir: ./\n",
      "zPriorSigma: 0.2\n",
      "ellPriorSigma: 0.5\n",
      "fluxLuminosityNorm: 1.0\n",
      "alpha_C: 1.0e3\n",
      "V_C: 0.1\n",
      "alpha_L: 1.0e2\n",
      "V_L: 0.1\n",
      "lines_pos: 6500 5002.26 3732.22 \n",
      "\n",
      "lines_width: 20 20 20 20 \n",
      "redshiftMin: 0.1\n",
      "redshiftMax: 1.101\n",
      "redshiftNumBinsGPpred: 100\n",
      "redshiftBinSize: 0.01\n",
      "redshiftDisBinSize: 0.2\n",
      "\n",
      "confidenceLevels: 0.1 0.50 0.68 0.95\n",
      "\n"
     ]
    }
   ],
   "source": [
    "print(paramfile_txt)"
   ]
  },
  {
   "cell_type": "markdown",
   "metadata": {},
   "source": [
    "## Temporary working dir\n",
    "\n",
    "**now intermediate file are written in a temporary file:**\n",
    "\n",
    "- configuration parameter file\n",
    "- input fluxes\n",
    "- Template fitting and Gaussian Process parameters\n",
    "- metrics from running Template fitting and Gaussian Process estimation"
   ]
  },
  {
   "cell_type": "code",
   "execution_count": 10,
   "metadata": {},
   "outputs": [],
   "source": [
    "# create usefull tempory directory\n",
    "try:\n",
    "    if not os.path.exists(input_param[\"tempdir\"]):\n",
    "        os.makedirs(input_param[\"tempdir\"])\n",
    "except OSError as e:\n",
    "    if e.errno != errno.EEXIST:\n",
    "        msg = \"error creating file \"+input_param[\"tempdir\"]\n",
    "        logger.error(msg)\n",
    "        raise"
   ]
  },
  {
   "cell_type": "code",
   "execution_count": 11,
   "metadata": {},
   "outputs": [],
   "source": [
    "configfilename     = 'parametersTestRail.cfg'\n",
    "configfullfilename = os.path.join(input_param['tempdir'],configfilename) "
   ]
  },
  {
   "cell_type": "markdown",
   "metadata": {},
   "source": [
    "- **write parameter file**"
   ]
  },
  {
   "cell_type": "code",
   "execution_count": 12,
   "metadata": {},
   "outputs": [],
   "source": [
    "with open(configfullfilename ,'w') as out:\n",
    "    out.write(paramfile_txt)"
   ]
  },
  {
   "cell_type": "markdown",
   "metadata": {},
   "source": [
    "# Filters"
   ]
  },
  {
   "cell_type": "markdown",
   "metadata": {},
   "source": [
    "- First, we must **fit the band filters with a gaussian mixture**. \n",
    "This is done with this script:"
   ]
  },
  {
   "cell_type": "code",
   "execution_count": 13,
   "metadata": {},
   "outputs": [],
   "source": [
    "from delight.interfaces.rail.processFilters import processFilters"
   ]
  },
  {
   "cell_type": "code",
   "execution_count": 14,
   "metadata": {},
   "outputs": [
    {
     "name": "stderr",
     "output_type": "stream",
     "text": [
      "2022-01-22 05:16:05,057 __main__.py delight.interfaces.rail.processFilters[26348] INFO ----- processFilters ------\n",
      "2022-01-22 05:16:05,058 __main__.py delight.interfaces.rail.processFilters[26348] INFO parameter file is ./tmpsim/parametersTestRail.cfg\n"
     ]
    },
    {
     "name": "stdout",
     "output_type": "stream",
     "text": [
      "lsst_u lsst_g lsst_r lsst_i lsst_z "
     ]
    },
    {
     "name": "stderr",
     "output_type": "stream",
     "text": [
      "/global/homes/d/dagoret/mydesc/mydesc/lib/python3.8/site-packages/scipy/optimize/minpack.py:476: RuntimeWarning: Number of calls to function has reached maxfev = 6200.\n",
      "  warnings.warn(errors[info][0], RuntimeWarning)\n"
     ]
    },
    {
     "name": "stdout",
     "output_type": "stream",
     "text": [
      "lsst_y "
     ]
    }
   ],
   "source": [
    "processFilters(configfullfilename)"
   ]
  },
  {
   "cell_type": "markdown",
   "metadata": {},
   "source": [
    "# SED"
   ]
  },
  {
   "cell_type": "markdown",
   "metadata": {},
   "source": [
    "- Second, we will process the library of SEDs and project them onto the filters,\n",
    "(for the mean fct of the GP) with the following script (which may take a few minutes depending on the settings you set):"
   ]
  },
  {
   "cell_type": "code",
   "execution_count": 15,
   "metadata": {},
   "outputs": [],
   "source": [
    "from delight.interfaces.rail.processSEDs import processSEDs"
   ]
  },
  {
   "cell_type": "code",
   "execution_count": 16,
   "metadata": {},
   "outputs": [
    {
     "name": "stderr",
     "output_type": "stream",
     "text": [
      "2022-01-22 05:16:37,850 __main__.py, delight.interfaces.rail.processSEDs[26348] INFO --- Process SED ---\n"
     ]
    }
   ],
   "source": [
    "processSEDs(configfullfilename)"
   ]
  },
  {
   "cell_type": "markdown",
   "metadata": {},
   "source": [
    "## Manage temporary working data (fluxes and GP params and metrics) directories"
   ]
  },
  {
   "cell_type": "code",
   "execution_count": 17,
   "metadata": {},
   "outputs": [],
   "source": [
    "try:\n",
    "    if not os.path.exists(input_param[\"tempdatadir\"]):\n",
    "        os.makedirs(input_param[\"tempdatadir\"])\n",
    "except OSError as e:\n",
    "    if e.errno != errno.EEXIST:\n",
    "        msg = \"error creating file \" + input_param[\"tempdatadir\"]\n",
    "        logger.error(msg)\n",
    "        raise"
   ]
  },
  {
   "cell_type": "markdown",
   "metadata": {},
   "source": [
    "# Internal simulation of a mock catalog"
   ]
  },
  {
   "cell_type": "markdown",
   "metadata": {},
   "source": [
    "Third, we will make some mock data with those filters and SEDs:"
   ]
  },
  {
   "cell_type": "code",
   "execution_count": 18,
   "metadata": {},
   "outputs": [],
   "source": [
    "from delight.interfaces.rail.simulateWithSEDs import simulateWithSEDs"
   ]
  },
  {
   "cell_type": "code",
   "execution_count": 19,
   "metadata": {},
   "outputs": [
    {
     "name": "stderr",
     "output_type": "stream",
     "text": [
      "2022-01-22 05:16:41,110 __main__.py, delight.interfaces.rail.simulateWithSEDs[26348] INFO --- Simulate with SED ---\n"
     ]
    }
   ],
   "source": [
    "simulateWithSEDs(configfullfilename)"
   ]
  },
  {
   "cell_type": "markdown",
   "metadata": {},
   "source": [
    "# Train and apply\n",
    "Run the scripts below. There should be a little bit of feedback as it is going through the lines.\n",
    "For up to 1e4 objects it should only take a few minutes max, depending on the settings above."
   ]
  },
  {
   "cell_type": "markdown",
   "metadata": {},
   "source": [
    "## Template Fitting"
   ]
  },
  {
   "cell_type": "code",
   "execution_count": 20,
   "metadata": {
    "collapsed": false,
    "jupyter": {
     "outputs_hidden": false
    }
   },
   "outputs": [],
   "source": [
    "from delight.interfaces.rail.templateFitting import templateFitting"
   ]
  },
  {
   "cell_type": "code",
   "execution_count": 21,
   "metadata": {},
   "outputs": [
    {
     "name": "stderr",
     "output_type": "stream",
     "text": [
      "2022-01-22 05:16:41,440 __main__.py, delight.interfaces.rail.templateFitting[26348] INFO --- TEMPLATE FITTING ---\n",
      "2022-01-22 05:16:41,441 __main__.py, delight.interfaces.rail.templateFitting[26348] INFO ==> New Prior calculation from Benitez\n",
      "2022-01-22 05:16:41,443 __main__.py, delight.interfaces.rail.templateFitting[26348] INFO Thread number / number of threads: 1 , 1\n",
      "2022-01-22 05:16:41,443 __main__.py, delight.interfaces.rail.templateFitting[26348] INFO Input parameter file:./tmpsim/parametersTestRail.cfg\n",
      "2022-01-22 05:16:41,454 __main__.py, delight.interfaces.rail.templateFitting[26348] INFO Number of Target Objects 1000\n",
      "2022-01-22 05:16:41,455 __main__.py, delight.interfaces.rail.templateFitting[26348] INFO Thread 0 , analyzes lines 0 , to 1000\n"
     ]
    }
   ],
   "source": [
    "templateFitting(configfullfilename)"
   ]
  },
  {
   "cell_type": "markdown",
   "metadata": {},
   "source": [
    "## Gaussian Process"
   ]
  },
  {
   "cell_type": "markdown",
   "metadata": {},
   "source": [
    "### Trainning"
   ]
  },
  {
   "cell_type": "code",
   "execution_count": 22,
   "metadata": {},
   "outputs": [],
   "source": [
    "from delight.interfaces.rail.delightLearn import delightLearn"
   ]
  },
  {
   "cell_type": "code",
   "execution_count": 23,
   "metadata": {
    "collapsed": false,
    "jupyter": {
     "outputs_hidden": false
    }
   },
   "outputs": [
    {
     "name": "stderr",
     "output_type": "stream",
     "text": [
      "2022-01-22 05:16:49,259 __main__.py, delight.interfaces.rail.delightLearn[26348] INFO --- DELIGHT-LEARN ---\n",
      "2022-01-22 05:16:49,274 __main__.py, delight.interfaces.rail.delightLearn[26348] INFO Number of Training Objects 1000\n",
      "2022-01-22 05:16:49,275 __main__.py, delight.interfaces.rail.delightLearn[26348] INFO Thread 0 , analyzes lines 0 , to 1000\n"
     ]
    }
   ],
   "source": [
    "delightLearn(configfullfilename)"
   ]
  },
  {
   "cell_type": "markdown",
   "metadata": {},
   "source": [
    "## Predictions"
   ]
  },
  {
   "cell_type": "code",
   "execution_count": 24,
   "metadata": {},
   "outputs": [],
   "source": [
    "from delight.interfaces.rail.delightApply import delightApply"
   ]
  },
  {
   "cell_type": "code",
   "execution_count": 25,
   "metadata": {},
   "outputs": [
    {
     "name": "stderr",
     "output_type": "stream",
     "text": [
      "2022-01-22 05:17:00,525 __main__.py, delight.interfaces.rail.delightApply[26348] INFO --- DELIGHT-APPLY ---\n",
      "2022-01-22 05:17:00,549 __main__.py, delight.interfaces.rail.delightApply[26348] INFO Number of Training Objects 1000\n",
      "2022-01-22 05:17:00,549 __main__.py, delight.interfaces.rail.delightApply[26348] INFO Number of Target Objects 1000\n",
      "2022-01-22 05:17:00,550 __main__.py, delight.interfaces.rail.delightApply[26348] INFO Thread 0 , analyzes lines 0 to 1000\n"
     ]
    },
    {
     "name": "stdout",
     "output_type": "stream",
     "text": [
      "0 0.02454400062561035 0.0010967254638671875 0.005803346633911133\n",
      "100 0.025220632553100586 0.0014977455139160156 0.00708770751953125\n",
      "200 0.021909475326538086 0.001157522201538086 0.0061321258544921875\n",
      "300 0.02034139633178711 0.0009942054748535156 0.0067408084869384766\n",
      "400 0.02205944061279297 0.0012569427490234375 0.0070569515228271484\n",
      "500 0.021306514739990234 0.00110626220703125 0.0057103633880615234\n",
      "600 0.022672176361083984 0.0014433860778808594 0.006518840789794922\n",
      "700 0.0207521915435791 0.0010223388671875 0.00807809829711914\n",
      "800 0.019287109375 0.0010187625885009766 0.007240772247314453\n",
      "900 0.018941879272460938 0.0012578964233398438 0.008821964263916016\n"
     ]
    }
   ],
   "source": [
    "delightApply(configfullfilename)"
   ]
  },
  {
   "cell_type": "markdown",
   "metadata": {},
   "source": [
    "# Analyze the outputs"
   ]
  },
  {
   "cell_type": "code",
   "execution_count": 26,
   "metadata": {},
   "outputs": [],
   "source": [
    "# First read a bunch of useful stuff from the parameter file.\n",
    "params = parseParamFile(configfullfilename, verbose=False)\n",
    "bandCoefAmplitudes, bandCoefPositions, bandCoefWidths, norms\\\n",
    "    = readBandCoefficients(params)\n",
    "bandNames = params['bandNames']\n",
    "numBands, numCoefs = bandCoefAmplitudes.shape\n",
    "fluxredshifts = np.loadtxt(params['target_catFile'])\n",
    "fluxredshifts_train = np.loadtxt(params['training_catFile'])\n",
    "bandIndices, bandNames, bandColumns, bandVarColumns, redshiftColumn,\\\n",
    "            refBandColumn = readColumnPositions(params, prefix='target_')\n",
    "redshiftDistGrid, redshiftGrid, redshiftGridGP = createGrids(params)\n",
    "dir_seds = params['templates_directory']\n",
    "dir_filters = params['bands_directory']\n",
    "lambdaRef = params['lambdaRef']\n",
    "sed_names = params['templates_names']\n",
    "nt = len(sed_names)\n",
    "f_mod = np.zeros((redshiftGrid.size, nt, len(params['bandNames'])))\n",
    "for t, sed_name in enumerate(sed_names):\n",
    "    f_mod[:, t, :] = np.loadtxt(dir_seds + '/' + sed_name + '_fluxredshiftmod.txt')"
   ]
  },
  {
   "cell_type": "code",
   "execution_count": null,
   "metadata": {},
   "outputs": [],
   "source": []
  },
  {
   "cell_type": "code",
   "execution_count": 27,
   "metadata": {
    "collapsed": false,
    "jupyter": {
     "outputs_hidden": false
    }
   },
   "outputs": [],
   "source": [
    "# Load the PDF files\n",
    "metricscww = np.loadtxt(params['metricsFile'])\n",
    "metrics = np.loadtxt(params['metricsFileTemp'])\n",
    "# Those of the indices of the true, mean, stdev, map, and map_std redshifts.\n",
    "i_zt, i_zm, i_std_zm, i_zmap, i_std_zmap = 0, 1, 2, 3, 4\n",
    "i_ze = i_zm\n",
    "i_std_ze = i_std_zm\n",
    "\n",
    "pdfs = np.loadtxt(params['redshiftpdfFile'])\n",
    "pdfs_cww = np.loadtxt(params['redshiftpdfFileTemp'])\n",
    "pdfatZ_cww = metricscww[:, 5] / pdfs_cww.max(axis=1)\n",
    "pdfatZ = metrics[:, 5] / pdfs.max(axis=1)\n",
    "nobj = pdfatZ.size\n",
    "#pdfs /= pdfs.max(axis=1)[:, None]\n",
    "#pdfs_cww /= pdfs_cww.max(axis=1)[:, None]\n",
    "pdfs /= np.trapz(pdfs, x=redshiftGrid, axis=1)[:, None]\n",
    "pdfs_cww /= np.trapz(pdfs_cww, x=redshiftGrid, axis=1)[:, None]"
   ]
  },
  {
   "cell_type": "code",
   "execution_count": 32,
   "metadata": {
    "collapsed": false,
    "jupyter": {
     "outputs_hidden": false
    }
   },
   "outputs": [
    {
     "name": "stdout",
     "output_type": "stream",
     "text": [
      "437 590 999 90 546 46 173 92 871 560 341 575 905 642 25 488 828 837 547 397 "
     ]
    },
    {
     "data": {
      "text/plain": [
       "<matplotlib.legend.Legend at 0x2aaaec02ed30>"
      ]
     },
     "execution_count": 32,
     "metadata": {},
     "output_type": "execute_result"
    },
    {
     "data": {
      "image/png": "[encoded data removed]",
      "text/plain": [
       "<Figure size 720x648 with 20 Axes>"
      ]
     },
     "metadata": {
      "needs_background": "light"
     },
     "output_type": "display_data"
    }
   ],
   "source": [
    "ncol = 4\n",
    "fig, axs = plt.subplots(5, ncol, figsize=(10, 9), sharex=True, sharey=False)\n",
    "axs = axs.ravel()\n",
    "z = fluxredshifts[:, redshiftColumn]\n",
    "sel = np.random.choice(nobj, axs.size, replace=False)\n",
    "lw = 2\n",
    "for ik in range(axs.size):\n",
    "    k = sel[ik]\n",
    "    print(k, end=\" \")\n",
    "    axs[ik].plot(redshiftGrid, pdfs_cww[k, :],lw=lw, label='Standard template fitting')# c=\"#2ecc71\", \n",
    "    axs[ik].plot(redshiftGrid, pdfs[k, :], lw=lw, label='New method')  #, c=\"#3498db\"\n",
    "    axs[ik].axvline(fluxredshifts[k, redshiftColumn], c=\"k\", lw=1, label='Spec-z')\n",
    "    ymax = np.max(np.concatenate((pdfs[k, :], pdfs_cww[k, :])))\n",
    "    axs[ik].set_ylim([0, ymax*1.2])\n",
    "    axs[ik].set_xlim([0, 1.1])\n",
    "    axs[ik].set_yticks([])\n",
    "    axs[ik].set_xticks([0.0, 0.2, 0.4, 0.6, 0.8, 1.0, 1.2, 1.4])\n",
    "for i in range(ncol):\n",
    "    axs[-i-1].set_xlabel('Redshift', fontsize=10)\n",
    "axs[0].legend(ncol=3, frameon=False, loc='upper left', bbox_to_anchor=(0.0, 1.4))\n",
    "#fig.tight_layout()\n",
    "#fig.subplots_adjust(wspace=0.1, hspace=0.1, top=0.96)\n"
   ]
  },
  {
   "cell_type": "code",
   "execution_count": 33,
   "metadata": {
    "collapsed": false,
    "jupyter": {
     "outputs_hidden": false
    }
   },
   "outputs": [
    {
     "data": {
      "text/plain": [
       "[<matplotlib.lines.Line2D at 0x2aaaec3cbca0>]"
      ]
     },
     "execution_count": 33,
     "metadata": {},
     "output_type": "execute_result"
    },
    {
     "data": {
      "image/png": "[encoded data removed]",
      "text/plain": [
       "<Figure size 720x720 with 4 Axes>"
      ]
     },
     "metadata": {
      "needs_background": "light"
     },
     "output_type": "display_data"
    }
   ],
   "source": [
    "fig, axs = plt.subplots(2, 2, figsize=(10, 10))\n",
    "zmax = 1.5\n",
    "rr = [[0, zmax], [0, zmax]]\n",
    "nbins = 30\n",
    "h = axs[0, 0].hist2d(metricscww[:, i_zt], metricscww[:, i_zm], nbins, cmap='Greys', range=rr)\n",
    "hmin, hmax = np.min(h[0]), np.max(h[0])\n",
    "axs[0, 0].set_title('CWW z mean')\n",
    "axs[0, 1].hist2d(metricscww[:, i_zt], metricscww[:, i_zmap], nbins, cmap='Greys', range=rr, vmax=hmax)\n",
    "axs[0, 1].set_title('CWW z map')\n",
    "axs[1, 0].hist2d(metrics[:, i_zt], metrics[:, i_zm], nbins, cmap='Greys', range=rr, vmax=hmax)\n",
    "axs[1, 0].set_title('GP z mean')\n",
    "axs[1, 1].hist2d(metrics[:, i_zt], metrics[:, i_zmap], nbins, cmap='Greys', range=rr, vmax=hmax)\n",
    "axs[1, 1].set_title('GP z map')\n",
    "axs[0, 0].plot([0, zmax], [0, zmax], c='k')\n",
    "axs[0, 1].plot([0, zmax], [0, zmax], c='k')\n",
    "axs[1, 0].plot([0, zmax], [0, zmax], c='k')\n",
    "axs[1, 1].plot([0, zmax], [0, zmax], c='k')\n",
    "#fig.tight_layout()"
   ]
  },
  {
   "cell_type": "code",
   "execution_count": 36,
   "metadata": {
    "collapsed": false,
    "jupyter": {
     "outputs_hidden": false
    }
   },
   "outputs": [
    {
     "data": {
      "image/png": "[encoded data removed]",
      "text/plain": [
       "<Figure size 720x396 with 2 Axes>"
      ]
     },
     "metadata": {
      "needs_background": "light"
     },
     "output_type": "display_data"
    }
   ],
   "source": [
    "fig, axs = plt.subplots(1, 2, figsize=(10, 5.5))\n",
    "chi2s = ((metrics[:, i_zt] - metrics[:, i_ze])/metrics[:, i_std_ze])**2\n",
    "\n",
    "axs[0].errorbar(metrics[:, i_zt], metrics[:, i_ze], yerr=metrics[:, i_std_ze], fmt='o', markersize=5, capsize=0)\n",
    "axs[1].errorbar(metricscww[:, i_zt], metricscww[:, i_ze], yerr=metricscww[:, i_std_ze], fmt='o', markersize=5, capsize=0)\n",
    "axs[0].plot([0, zmax], [0, zmax], 'k')\n",
    "axs[1].plot([0, zmax], [0, zmax], 'k')\n",
    "axs[0].set_xlim([0, zmax])\n",
    "axs[1].set_xlim([0, zmax])\n",
    "axs[0].set_ylim([0, zmax])\n",
    "axs[1].set_ylim([0, zmax])\n",
    "axs[0].set_title('New method')\n",
    "axs[1].set_title('Standard template fitting')\n",
    "\n",
    "fig.tight_layout()"
   ]
  },
  {
   "cell_type": "code",
   "execution_count": 31,
   "metadata": {
    "collapsed": false,
    "jupyter": {
     "outputs_hidden": false
    }
   },
   "outputs": [
    {
     "data": {
      "text/plain": [
       "Text(0.5, 1.0, 'New method')"
      ]
     },
     "execution_count": 31,
     "metadata": {},
     "output_type": "execute_result"
    },
    {
     "data": {
      "image/png": "[encoded data removed]",
      "text/plain": [
       "<Figure size 720x252 with 3 Axes>"
      ]
     },
     "metadata": {
      "needs_background": "light"
     },
     "output_type": "display_data"
    }
   ],
   "source": [
    "cmap = \"coolwarm_r\"\n",
    "vmin = 0.0\n",
    "alpha = 0.9\n",
    "s = 5\n",
    "fig, axs = plt.subplots(1, 2, figsize=(10, 3.5))\n",
    "vs = axs[0].scatter(metricscww[:, i_zt], metricscww[:, i_zmap], \n",
    "                    s=s, c=pdfatZ_cww, cmap=cmap, linewidth=0, vmin=vmin, alpha=alpha)\n",
    "vs = axs[1].scatter(metrics[:, i_zt], metrics[:, i_zmap], \n",
    "                    s=s, c=pdfatZ, cmap=cmap, linewidth=0, vmin=vmin, alpha=alpha)\n",
    "clb = plt.colorbar(vs, ax=axs.ravel().tolist())\n",
    "clb.set_label('Normalized probability at spec-$z$')\n",
    "for i in range(2):\n",
    "    axs[i].plot([0, zmax], [0, zmax], c='k', lw=1, zorder=0, alpha=1)\n",
    "    axs[i].set_ylim([0, zmax])\n",
    "    axs[i].set_xlim([0, zmax])\n",
    "    axs[i].set_xlabel('Spec-$z$')\n",
    "axs[0].set_ylabel('MAP photo-$z$')\n",
    "\n",
    "axs[0].set_title('Standard template fitting')\n",
    "axs[1].set_title('New method')"
   ]
  },
  {
   "cell_type": "markdown",
   "metadata": {},
   "source": [
    "## Conclusion\n",
    "Don't be too harsh with the results of the standard template fitting or the new methods since both have a lot of parameters which can be optimized!\n",
    "\n",
    "If the results above made sense, i.e. the redshifts are reasonnable for both methods on the mock data, then you can start modifying the parameter files and creating catalog files containing actual data! I recommend using less than 20k galaxies for training, and 1000 or 10k galaxies for the delight-apply script at the moment. Future updates will address this issue."
   ]
  }
 ],
 "metadata": {
  "anaconda-cloud": {},
  "kernelspec": {
   "display_name": "desc-python",
   "language": "python",
   "name": "desc-python"
  },
  "language_info": {
   "codemirror_mode": {
    "name": "ipython",
    "version": 3
   },
   "file_extension": ".py",
   "mimetype": "text/x-python",
   "name": "python",
   "nbconvert_exporter": "python",
   "pygments_lexer": "ipython3",
   "version": "3.8.12"
  }
 },
 "nbformat": 4,
 "nbformat_minor": 4
}
