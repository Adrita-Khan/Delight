{
 "cells": [
  {
   "cell_type": "markdown",
   "metadata": {},
   "source": [
    "# Test Delight on DESC-DC2 simulation  in the contect of  Vera C. Rubin Obs (LSST) \n",
    "\n",
    "\n",
    "- author : Sylvie Dagoret-Campagne\n",
    "- affiliation : IJCLab/IN2P3/CNRS\n",
    "- creation date : January 22 2022\n",
    "\n",
    "\n",
    "\n",
    "- run at NERSC with **desc-python** python kernel.\n",
    "\n",
    "\n",
    "Instruction to have a **desc-python** environnement:\n",
    "- https://confluence.slac.stanford.edu/display/LSSTDESC/Getting+Started+with+Anaconda+Python+at+NERSC\n",
    "\n",
    "\n",
    "This environnement is a clone from the **desc-python** environnement where package required in requirements can be addded according the instructions here\n",
    "- https://github.com/LSSTDESC/desc-python/wiki/Add-Packages-to-the-desc-python-environment"
   ]
  },
  {
   "cell_type": "markdown",
   "metadata": {},
   "source": [
    "We will use the parameter file \"tmps/parametersTestRail.cfg\".\n",
    "This contains a description of the bands and data to be used.\n",
    "In this example we will generate mock data for the ugrizy LSST bands,\n",
    "fit each object with our GP using ugi bands only and see how it predicts the rz bands.\n",
    "This is an example for filling in/predicting missing bands in a fully bayesian way\n",
    "with a flexible SED model quickly via our photo-z GP."
   ]
  },
  {
   "cell_type": "code",
   "execution_count": 1,
   "metadata": {
    "tags": []
   },
   "outputs": [],
   "source": [
    "%matplotlib inline\n",
    "import numpy as np\n",
    "import matplotlib.pyplot as plt\n",
    "import scipy.stats\n",
    "import sys,os\n",
    "sys.path.append('../')\n",
    "from delight.io import *\n",
    "from delight.utils import *\n",
    "from delight.photoz_gp import PhotozGP"
   ]
  },
  {
   "cell_type": "markdown",
   "metadata": {},
   "source": [
    "# Initialisation"
   ]
  },
  {
   "cell_type": "code",
   "execution_count": 2,
   "metadata": {},
   "outputs": [],
   "source": [
    "workdir = \"tmp\""
   ]
  },
  {
   "cell_type": "markdown",
   "metadata": {},
   "source": [
    "# Configuration parameters\n",
    "\n",
    "- now parameters are generated in a dictionnary"
   ]
  },
  {
   "cell_type": "code",
   "execution_count": 8,
   "metadata": {},
   "outputs": [],
   "source": [
    "list_of_files = os.listdir(workdir)\n",
    "list_of_files.remove('data') \n",
    "list_of_files.remove('delight_data') \n",
    "list_of_configfiles = sorted(list_of_files)"
   ]
  },
  {
   "cell_type": "code",
   "execution_count": 9,
   "metadata": {},
   "outputs": [
    {
     "data": {
      "text/plain": [
       "['parametersTest.cfg',\n",
       " 'parametersTest_1.cfg',\n",
       " 'parametersTest_10.cfg',\n",
       " 'parametersTest_11.cfg',\n",
       " 'parametersTest_12.cfg',\n",
       " 'parametersTest_13.cfg',\n",
       " 'parametersTest_14.cfg',\n",
       " 'parametersTest_15.cfg',\n",
       " 'parametersTest_16.cfg',\n",
       " 'parametersTest_17.cfg',\n",
       " 'parametersTest_18.cfg',\n",
       " 'parametersTest_19.cfg',\n",
       " 'parametersTest_2.cfg',\n",
       " 'parametersTest_20.cfg',\n",
       " 'parametersTest_21.cfg',\n",
       " 'parametersTest_3.cfg',\n",
       " 'parametersTest_4.cfg',\n",
       " 'parametersTest_5.cfg',\n",
       " 'parametersTest_6.cfg',\n",
       " 'parametersTest_7.cfg',\n",
       " 'parametersTest_8.cfg',\n",
       " 'parametersTest_9.cfg']"
      ]
     },
     "execution_count": 9,
     "metadata": {},
     "output_type": "execute_result"
    }
   ],
   "source": [
    "list_of_configfiles"
   ]
  },
  {
   "cell_type": "markdown",
   "metadata": {},
   "source": [
    "# Filters"
   ]
  },
  {
   "cell_type": "markdown",
   "metadata": {},
   "source": [
    "- First, we must **fit the band filters with a gaussian mixture**. \n",
    "This is done with this script:"
   ]
  },
  {
   "cell_type": "code",
   "execution_count": 11,
   "metadata": {},
   "outputs": [],
   "source": [
    "from delight.interfaces.rail.processFilters import processFilters"
   ]
  },
  {
   "cell_type": "code",
   "execution_count": 12,
   "metadata": {},
   "outputs": [
    {
     "name": "stderr",
     "output_type": "stream",
     "text": [
      "2022-01-22 08:34:52,643 __main__.py delight.interfaces.rail.processFilters[31455] INFO ----- processFilters ------\n",
      "2022-01-22 08:34:52,645 __main__.py delight.interfaces.rail.processFilters[31455] INFO parameter file is tmp/parametersTest.cfg\n"
     ]
    },
    {
     "name": "stdout",
     "output_type": "stream",
     "text": [
      "DC2LSST_u DC2LSST_g DC2LSST_r DC2LSST_i DC2LSST_z DC2LSST_y "
     ]
    }
   ],
   "source": [
    "configfilename = list_of_configfiles[0]\n",
    "configfullfilename = os.path.join(workdir,configfilename) \n",
    "processFilters(configfullfilename)"
   ]
  },
  {
   "cell_type": "markdown",
   "metadata": {},
   "source": [
    "# SED"
   ]
  },
  {
   "cell_type": "markdown",
   "metadata": {},
   "source": [
    "- Second, we will process the library of SEDs and project them onto the filters,\n",
    "(for the mean fct of the GP) with the following script (which may take a few minutes depending on the settings you set):"
   ]
  },
  {
   "cell_type": "code",
   "execution_count": 13,
   "metadata": {},
   "outputs": [],
   "source": [
    "from delight.interfaces.rail.processSEDs import processSEDs"
   ]
  },
  {
   "cell_type": "code",
   "execution_count": 14,
   "metadata": {},
   "outputs": [
    {
     "name": "stderr",
     "output_type": "stream",
     "text": [
      "2022-01-22 08:35:38,146 __main__.py, delight.interfaces.rail.processSEDs[31455] INFO --- Process SED ---\n"
     ]
    }
   ],
   "source": [
    "configfilename = list_of_configfiles[0]\n",
    "configfullfilename = os.path.join(workdir,configfilename) \n",
    "processSEDs(configfullfilename)"
   ]
  },
  {
   "cell_type": "markdown",
   "metadata": {},
   "source": [
    "# Train and apply\n",
    "Run the scripts below. There should be a little bit of feedback as it is going through the lines.\n",
    "For up to 1e4 objects it should only take a few minutes max, depending on the settings above."
   ]
  },
  {
   "cell_type": "markdown",
   "metadata": {},
   "source": [
    "## Template Fitting"
   ]
  },
  {
   "cell_type": "code",
   "execution_count": 15,
   "metadata": {
    "collapsed": false,
    "jupyter": {
     "outputs_hidden": false
    }
   },
   "outputs": [],
   "source": [
    "from delight.interfaces.rail.templateFitting import templateFitting"
   ]
  },
  {
   "cell_type": "code",
   "execution_count": 16,
   "metadata": {},
   "outputs": [
    {
     "name": "stderr",
     "output_type": "stream",
     "text": [
      "2022-01-22 08:36:38,246 __main__.py, delight.interfaces.rail.templateFitting[31455] INFO --- TEMPLATE FITTING ---\n",
      "2022-01-22 08:36:38,247 __main__.py, delight.interfaces.rail.templateFitting[31455] INFO ==> New Prior calculation from Benitez\n",
      "2022-01-22 08:36:38,250 __main__.py, delight.interfaces.rail.templateFitting[31455] INFO Thread number / number of threads: 1 , 1\n",
      "2022-01-22 08:36:38,250 __main__.py, delight.interfaces.rail.templateFitting[31455] INFO Input parameter file:tmp/parametersTest.cfg\n",
      "2022-01-22 08:36:38,281 __main__.py, delight.interfaces.rail.templateFitting[31455] INFO Number of Target Objects 10692\n",
      "2022-01-22 08:36:38,282 __main__.py, delight.interfaces.rail.templateFitting[31455] INFO Thread 0 , analyzes lines 0 , to 10692\n"
     ]
    }
   ],
   "source": [
    "templateFitting(configfullfilename)"
   ]
  },
  {
   "cell_type": "markdown",
   "metadata": {},
   "source": [
    "## Gaussian Process"
   ]
  },
  {
   "cell_type": "markdown",
   "metadata": {},
   "source": [
    "### Trainning"
   ]
  },
  {
   "cell_type": "code",
   "execution_count": 17,
   "metadata": {},
   "outputs": [],
   "source": [
    "from delight.interfaces.rail.delightLearn import delightLearn"
   ]
  },
  {
   "cell_type": "code",
   "execution_count": 18,
   "metadata": {
    "collapsed": false,
    "jupyter": {
     "outputs_hidden": false
    }
   },
   "outputs": [
    {
     "name": "stderr",
     "output_type": "stream",
     "text": [
      "2022-01-22 08:39:58,493 __main__.py, delight.interfaces.rail.delightLearn[31455] INFO --- DELIGHT-LEARN ---\n",
      "2022-01-22 08:39:58,522 __main__.py, delight.interfaces.rail.delightLearn[31455] INFO Number of Training Objects 3755\n",
      "2022-01-22 08:39:58,522 __main__.py, delight.interfaces.rail.delightLearn[31455] INFO Thread 0 , analyzes lines 0 , to 3755\n"
     ]
    }
   ],
   "source": [
    "delightLearn(configfullfilename)"
   ]
  },
  {
   "cell_type": "markdown",
   "metadata": {},
   "source": [
    "## Predictions"
   ]
  },
  {
   "cell_type": "code",
   "execution_count": 19,
   "metadata": {},
   "outputs": [],
   "source": [
    "from delight.interfaces.rail.delightApply import delightApply"
   ]
  },
  {
   "cell_type": "code",
   "execution_count": null,
   "metadata": {},
   "outputs": [
    {
     "name": "stderr",
     "output_type": "stream",
     "text": [
      "2022-01-22 08:41:17,956 __main__.py, delight.interfaces.rail.delightApply[31455] INFO --- DELIGHT-APPLY ---\n",
      "2022-01-22 08:41:18,011 __main__.py, delight.interfaces.rail.delightApply[31455] INFO Number of Training Objects 3755\n",
      "2022-01-22 08:41:18,011 __main__.py, delight.interfaces.rail.delightApply[31455] INFO Number of Target Objects 10692\n",
      "2022-01-22 08:41:18,012 __main__.py, delight.interfaces.rail.delightApply[31455] INFO Thread 0 , analyzes lines 0 to 10692\n"
     ]
    },
    {
     "name": "stdout",
     "output_type": "stream",
     "text": [
      "0 0.33751368522644043 0.012887239456176758 0.017375707626342773\n",
      "100 0.31065964698791504 0.007980823516845703 0.014782190322875977\n",
      "200 0.269423246383667 0.006314992904663086 0.009319067001342773\n",
      "300 0.2887094020843506 0.006795167922973633 0.020476341247558594\n",
      "400 0.2859187126159668 0.00637507438659668 0.007643699645996094\n",
      "500 0.30138707160949707 0.0068318843841552734 0.017548561096191406\n",
      "600 0.28133678436279297 0.009224176406860352 0.007142543792724609\n",
      "700 0.26932549476623535 0.005749940872192383 0.013953208923339844\n",
      "800 0.3207070827484131 0.006529092788696289 0.02567601203918457\n",
      "900 0.283750057220459 0.005692481994628906 0.009633064270019531\n",
      "1000 0.2876918315887451 0.0061681270599365234 0.020091533660888672\n",
      "1100 0.27275776863098145 0.005872249603271484 0.014101266860961914\n",
      "1200 0.263948917388916 0.006048917770385742 0.009785175323486328\n",
      "1300 0.29393506050109863 0.0062367916107177734 0.015554666519165039\n",
      "1400 0.29225778579711914 0.007026195526123047 0.011761188507080078\n",
      "1500 0.2993154525756836 0.006282329559326172 0.007261991500854492\n",
      "1600 0.28201889991760254 0.0062408447265625 0.016902446746826172\n",
      "1700 0.32544922828674316 0.006495475769042969 0.015550613403320312\n",
      "1800 0.29257869720458984 0.007142066955566406 0.008968114852905273\n",
      "1900 0.2778806686401367 0.007447719573974609 0.014520883560180664\n",
      "2000 0.3044555187225342 0.005859375 0.02373814582824707\n",
      "2100 0.28522539138793945 0.006222724914550781 0.01618170738220215\n",
      "2200 0.2821481227874756 0.006075859069824219 0.00616455078125\n",
      "2300 0.2755265235900879 0.006180763244628906 0.01579880714416504\n",
      "2400 0.3160979747772217 0.007814645767211914 0.00802922248840332\n",
      "2500 0.2843451499938965 0.007880449295043945 0.011626958847045898\n",
      "2600 0.3043990135192871 0.006373405456542969 0.012358903884887695\n",
      "2700 0.3190925121307373 0.006480216979980469 0.015545129776000977\n",
      "2800 0.3060286045074463 0.008943557739257812 0.009046792984008789\n",
      "2900 0.27584028244018555 0.007103443145751953 0.009550809860229492\n",
      "3000 0.2715306282043457 0.006025552749633789 0.01820969581604004\n",
      "3100 0.290069580078125 0.00535130500793457 0.005679130554199219\n",
      "3200 0.2975044250488281 0.006487607955932617 0.006940126419067383\n",
      "3300 0.28243255615234375 0.009162664413452148 0.006799221038818359\n",
      "3400 0.27367234230041504 0.0061261653900146484 0.00711369514465332\n",
      "3500 0.27804136276245117 0.008147239685058594 0.009577274322509766\n",
      "3600 0.2765231132507324 0.005367279052734375 0.0063784122467041016\n",
      "3700 0.2825133800506592 0.007502555847167969 0.007324695587158203\n",
      "3800 0.2972092628479004 0.005801677703857422 0.013867616653442383\n",
      "3900 0.29837775230407715 0.0065402984619140625 0.006787538528442383\n",
      "4000 0.31310248374938965 0.007523059844970703 0.01485896110534668\n",
      "4100 0.30400776863098145 0.007658720016479492 0.00712132453918457\n",
      "4200 0.2700638771057129 0.006865262985229492 0.014281511306762695\n",
      "4300 0.29147768020629883 0.008512020111083984 0.009637594223022461\n",
      "4400 0.3053112030029297 0.0065729618072509766 0.013250112533569336\n",
      "4500 0.2751164436340332 0.0070934295654296875 0.013901948928833008\n",
      "4600 0.2985851764678955 0.009241580963134766 0.009214401245117188\n",
      "4700 0.2960703372955322 0.0061206817626953125 0.00684046745300293\n",
      "4800 0.28209853172302246 0.012838602066040039 0.011228084564208984\n",
      "4900 0.27683138847351074 0.005604743957519531 0.006143331527709961\n",
      "5000 0.26714158058166504 0.005202770233154297 0.004402637481689453\n",
      "5100 0.2964799404144287 0.007135868072509766 0.01689910888671875\n",
      "5200 0.2854804992675781 0.0061779022216796875 0.007201433181762695\n",
      "5300 0.28905272483825684 0.006713151931762695 0.00945138931274414\n",
      "5400 0.3159976005554199 0.006013154983520508 0.0058171749114990234\n",
      "5500 0.33812546730041504 0.0069427490234375 0.013136625289916992\n",
      "5600 0.300384521484375 0.0067386627197265625 0.006757020950317383\n",
      "5700 0.30530261993408203 0.006229877471923828 0.007535696029663086\n",
      "5800 0.3134946823120117 0.007725954055786133 0.00724482536315918\n",
      "5900 0.3057725429534912 0.007262229919433594 0.01247715950012207\n",
      "6000 0.2881801128387451 0.007288217544555664 0.00706791877746582\n",
      "6100 0.2752540111541748 0.006814241409301758 0.009719133377075195\n",
      "6200 0.2846260070800781 0.009550094604492188 0.007367610931396484\n",
      "6300 0.29717564582824707 0.0066754817962646484 0.014693975448608398\n",
      "6400 0.27555155754089355 0.009099006652832031 0.0077784061431884766\n",
      "6500 0.31075286865234375 0.00973820686340332 0.03082442283630371\n",
      "6600 0.27118873596191406 0.006003379821777344 0.006510019302368164\n",
      "6700 0.30155110359191895 0.0065233707427978516 0.007948875427246094\n",
      "6800 0.2732691764831543 0.005887031555175781 0.0062999725341796875\n",
      "6900 0.30022215843200684 0.009346485137939453 0.008526086807250977\n",
      "7000 0.28063344955444336 0.007422685623168945 0.008593082427978516\n",
      "7100 0.2839498519897461 0.006713151931762695 0.006895542144775391\n",
      "7200 0.3255126476287842 0.009241819381713867 0.011606454849243164\n",
      "7300 0.2888321876525879 0.009505987167358398 0.010149002075195312\n",
      "7400 0.26808786392211914 0.00609588623046875 0.0060863494873046875\n",
      "7500 0.2966625690460205 0.006754398345947266 0.0063745975494384766\n",
      "7600 0.2707204818725586 0.0063703060150146484 0.006587028503417969\n",
      "7700 0.29593443870544434 0.006646156311035156 0.006635427474975586\n",
      "7800 0.2839076519012451 0.008572816848754883 0.0173184871673584\n",
      "7900 0.29402852058410645 0.006819248199462891 0.019649744033813477\n",
      "8000 0.2717857360839844 0.0069887638092041016 0.008092880249023438\n",
      "8100 0.2717776298522949 0.006394624710083008 0.005460262298583984\n"
     ]
    }
   ],
   "source": [
    "delightApply(configfullfilename)"
   ]
  },
  {
   "cell_type": "markdown",
   "metadata": {},
   "source": [
    "# Analyze the outputs"
   ]
  },
  {
   "cell_type": "code",
   "execution_count": null,
   "metadata": {},
   "outputs": [],
   "source": [
    "# First read a bunch of useful stuff from the parameter file.\n",
    "params = parseParamFile(configfullfilename, verbose=False)\n",
    "bandCoefAmplitudes, bandCoefPositions, bandCoefWidths, norms\\\n",
    "    = readBandCoefficients(params)\n",
    "bandNames = params['bandNames']\n",
    "numBands, numCoefs = bandCoefAmplitudes.shape\n",
    "fluxredshifts = np.loadtxt(params['target_catFile'])\n",
    "fluxredshifts_train = np.loadtxt(params['training_catFile'])\n",
    "bandIndices, bandNames, bandColumns, bandVarColumns, redshiftColumn,\\\n",
    "            refBandColumn = readColumnPositions(params, prefix='target_')\n",
    "redshiftDistGrid, redshiftGrid, redshiftGridGP = createGrids(params)\n",
    "dir_seds = params['templates_directory']\n",
    "dir_filters = params['bands_directory']\n",
    "lambdaRef = params['lambdaRef']\n",
    "sed_names = params['templates_names']\n",
    "nt = len(sed_names)\n",
    "f_mod = np.zeros((redshiftGrid.size, nt, len(params['bandNames'])))\n",
    "for t, sed_name in enumerate(sed_names):\n",
    "    f_mod[:, t, :] = np.loadtxt(dir_seds + '/' + sed_name + '_fluxredshiftmod.txt')"
   ]
  },
  {
   "cell_type": "code",
   "execution_count": null,
   "metadata": {},
   "outputs": [],
   "source": []
  },
  {
   "cell_type": "code",
   "execution_count": null,
   "metadata": {
    "collapsed": false,
    "jupyter": {
     "outputs_hidden": false
    }
   },
   "outputs": [],
   "source": [
    "# Load the PDF files\n",
    "metricscww = np.loadtxt(params['metricsFile'])\n",
    "metrics = np.loadtxt(params['metricsFileTemp'])\n",
    "# Those of the indices of the true, mean, stdev, map, and map_std redshifts.\n",
    "i_zt, i_zm, i_std_zm, i_zmap, i_std_zmap = 0, 1, 2, 3, 4\n",
    "i_ze = i_zm\n",
    "i_std_ze = i_std_zm\n",
    "\n",
    "pdfs = np.loadtxt(params['redshiftpdfFile'])\n",
    "pdfs_cww = np.loadtxt(params['redshiftpdfFileTemp'])\n",
    "pdfatZ_cww = metricscww[:, 5] / pdfs_cww.max(axis=1)\n",
    "pdfatZ = metrics[:, 5] / pdfs.max(axis=1)\n",
    "nobj = pdfatZ.size\n",
    "#pdfs /= pdfs.max(axis=1)[:, None]\n",
    "#pdfs_cww /= pdfs_cww.max(axis=1)[:, None]\n",
    "pdfs /= np.trapz(pdfs, x=redshiftGrid, axis=1)[:, None]\n",
    "pdfs_cww /= np.trapz(pdfs_cww, x=redshiftGrid, axis=1)[:, None]"
   ]
  },
  {
   "cell_type": "code",
   "execution_count": null,
   "metadata": {
    "collapsed": false,
    "jupyter": {
     "outputs_hidden": false
    }
   },
   "outputs": [],
   "source": [
    "ncol = 4\n",
    "fig, axs = plt.subplots(5, ncol, figsize=(10, 9), sharex=True, sharey=False)\n",
    "axs = axs.ravel()\n",
    "z = fluxredshifts[:, redshiftColumn]\n",
    "sel = np.random.choice(nobj, axs.size, replace=False)\n",
    "lw = 2\n",
    "for ik in range(axs.size):\n",
    "    k = sel[ik]\n",
    "    print(k, end=\" \")\n",
    "    axs[ik].plot(redshiftGrid, pdfs_cww[k, :],lw=lw, label='Standard template fitting')# c=\"#2ecc71\", \n",
    "    axs[ik].plot(redshiftGrid, pdfs[k, :], lw=lw, label='New method')  #, c=\"#3498db\"\n",
    "    axs[ik].axvline(fluxredshifts[k, redshiftColumn], c=\"k\", lw=1, label='Spec-z')\n",
    "    ymax = np.max(np.concatenate((pdfs[k, :], pdfs_cww[k, :])))\n",
    "    axs[ik].set_ylim([0, ymax*1.2])\n",
    "    axs[ik].set_xlim([0, 1.1])\n",
    "    axs[ik].set_yticks([])\n",
    "    axs[ik].set_xticks([0.0, 0.2, 0.4, 0.6, 0.8, 1.0, 1.2, 1.4])\n",
    "for i in range(ncol):\n",
    "    axs[-i-1].set_xlabel('Redshift', fontsize=10)\n",
    "axs[0].legend(ncol=3, frameon=False, loc='upper left', bbox_to_anchor=(0.0, 1.4))\n",
    "#fig.tight_layout()\n",
    "#fig.subplots_adjust(wspace=0.1, hspace=0.1, top=0.96)\n"
   ]
  },
  {
   "cell_type": "code",
   "execution_count": null,
   "metadata": {
    "collapsed": false,
    "jupyter": {
     "outputs_hidden": false
    }
   },
   "outputs": [],
   "source": [
    "fig, axs = plt.subplots(2, 2, figsize=(10, 10))\n",
    "zmax = 1.5\n",
    "rr = [[0, zmax], [0, zmax]]\n",
    "nbins = 30\n",
    "h = axs[0, 0].hist2d(metricscww[:, i_zt], metricscww[:, i_zm], nbins, cmap='Greys', range=rr)\n",
    "hmin, hmax = np.min(h[0]), np.max(h[0])\n",
    "axs[0, 0].set_title('CWW z mean')\n",
    "axs[0, 1].hist2d(metricscww[:, i_zt], metricscww[:, i_zmap], nbins, cmap='Greys', range=rr, vmax=hmax)\n",
    "axs[0, 1].set_title('CWW z map')\n",
    "axs[1, 0].hist2d(metrics[:, i_zt], metrics[:, i_zm], nbins, cmap='Greys', range=rr, vmax=hmax)\n",
    "axs[1, 0].set_title('GP z mean')\n",
    "axs[1, 1].hist2d(metrics[:, i_zt], metrics[:, i_zmap], nbins, cmap='Greys', range=rr, vmax=hmax)\n",
    "axs[1, 1].set_title('GP z map')\n",
    "axs[0, 0].plot([0, zmax], [0, zmax], c='k')\n",
    "axs[0, 1].plot([0, zmax], [0, zmax], c='k')\n",
    "axs[1, 0].plot([0, zmax], [0, zmax], c='k')\n",
    "axs[1, 1].plot([0, zmax], [0, zmax], c='k')\n",
    "#fig.tight_layout()"
   ]
  },
  {
   "cell_type": "code",
   "execution_count": null,
   "metadata": {
    "collapsed": false,
    "jupyter": {
     "outputs_hidden": false
    }
   },
   "outputs": [],
   "source": [
    "fig, axs = plt.subplots(1, 2, figsize=(10, 5.5))\n",
    "chi2s = ((metrics[:, i_zt] - metrics[:, i_ze])/metrics[:, i_std_ze])**2\n",
    "\n",
    "axs[0].errorbar(metrics[:, i_zt], metrics[:, i_ze], yerr=metrics[:, i_std_ze], fmt='o', markersize=5, capsize=0)\n",
    "axs[1].errorbar(metricscww[:, i_zt], metricscww[:, i_ze], yerr=metricscww[:, i_std_ze], fmt='o', markersize=5, capsize=0)\n",
    "axs[0].plot([0, zmax], [0, zmax], 'k')\n",
    "axs[1].plot([0, zmax], [0, zmax], 'k')\n",
    "axs[0].set_xlim([0, zmax])\n",
    "axs[1].set_xlim([0, zmax])\n",
    "axs[0].set_ylim([0, zmax])\n",
    "axs[1].set_ylim([0, zmax])\n",
    "axs[0].set_title('New method')\n",
    "axs[1].set_title('Standard template fitting')\n",
    "\n",
    "fig.tight_layout()"
   ]
  },
  {
   "cell_type": "code",
   "execution_count": null,
   "metadata": {
    "collapsed": false,
    "jupyter": {
     "outputs_hidden": false
    }
   },
   "outputs": [],
   "source": [
    "cmap = \"coolwarm_r\"\n",
    "vmin = 0.0\n",
    "alpha = 0.9\n",
    "s = 5\n",
    "fig, axs = plt.subplots(1, 2, figsize=(10, 3.5))\n",
    "vs = axs[0].scatter(metricscww[:, i_zt], metricscww[:, i_zmap], \n",
    "                    s=s, c=pdfatZ_cww, cmap=cmap, linewidth=0, vmin=vmin, alpha=alpha)\n",
    "vs = axs[1].scatter(metrics[:, i_zt], metrics[:, i_zmap], \n",
    "                    s=s, c=pdfatZ, cmap=cmap, linewidth=0, vmin=vmin, alpha=alpha)\n",
    "clb = plt.colorbar(vs, ax=axs.ravel().tolist())\n",
    "clb.set_label('Normalized probability at spec-$z$')\n",
    "for i in range(2):\n",
    "    axs[i].plot([0, zmax], [0, zmax], c='k', lw=1, zorder=0, alpha=1)\n",
    "    axs[i].set_ylim([0, zmax])\n",
    "    axs[i].set_xlim([0, zmax])\n",
    "    axs[i].set_xlabel('Spec-$z$')\n",
    "axs[0].set_ylabel('MAP photo-$z$')\n",
    "\n",
    "axs[0].set_title('Standard template fitting')\n",
    "axs[1].set_title('New method')"
   ]
  },
  {
   "cell_type": "markdown",
   "metadata": {},
   "source": [
    "## Conclusion\n",
    "Don't be too harsh with the results of the standard template fitting or the new methods since both have a lot of parameters which can be optimized!\n",
    "\n",
    "If the results above made sense, i.e. the redshifts are reasonnable for both methods on the mock data, then you can start modifying the parameter files and creating catalog files containing actual data! I recommend using less than 20k galaxies for training, and 1000 or 10k galaxies for the delight-apply script at the moment. Future updates will address this issue."
   ]
  }
 ],
 "metadata": {
  "anaconda-cloud": {},
  "kernelspec": {
   "display_name": "desc-python",
   "language": "python",
   "name": "desc-python"
  },
  "language_info": {
   "codemirror_mode": {
    "name": "ipython",
    "version": 3
   },
   "file_extension": ".py",
   "mimetype": "text/x-python",
   "name": "python",
   "nbconvert_exporter": "python",
   "pygments_lexer": "ipython3",
   "version": "3.8.12"
  }
 },
 "nbformat": 4,
 "nbformat_minor": 4
}
